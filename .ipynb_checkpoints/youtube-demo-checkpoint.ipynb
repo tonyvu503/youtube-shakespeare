{
 "cells": [
  {
   "cell_type": "code",
   "execution_count": 1,
   "id": "804370f5-4727-45ba-bcc1-5a82a1181061",
   "metadata": {},
   "outputs": [
    {
     "name": "stdout",
     "output_type": "stream",
     "text": [
      "3.7.13\n"
     ]
    }
   ],
   "source": [
    "from platform import python_version\n",
    "print(python_version())"
   ]
  },
  {
   "cell_type": "code",
   "execution_count": 2,
   "id": "5412ac46-19f9-4a93-a745-019d805253c3",
   "metadata": {},
   "outputs": [],
   "source": [
    "from txtai.embeddings import Embeddings\n",
    "import pandas as pd"
   ]
  },
  {
   "cell_type": "code",
   "execution_count": 3,
   "id": "875d898b-0706-48a9-8a59-77b9c6cfb5bc",
   "metadata": {},
   "outputs": [],
   "source": [
    "embeddings = Embeddings({\n",
    "    \n",
    "    \"path\": \"sentence-transformers/all-MiniLM-L6-v2\",\n",
    "    \"content\": True\n",
    "})"
   ]
  },
  {
   "cell_type": "code",
   "execution_count": 4,
   "id": "25dc6ce9-aa16-4626-8f01-331f0cabaec7",
   "metadata": {},
   "outputs": [
    {
     "data": {
      "text/html": [
       "<div>\n",
       "<style scoped>\n",
       "    .dataframe tbody tr th:only-of-type {\n",
       "        vertical-align: middle;\n",
       "    }\n",
       "\n",
       "    .dataframe tbody tr th {\n",
       "        vertical-align: top;\n",
       "    }\n",
       "\n",
       "    .dataframe thead th {\n",
       "        text-align: right;\n",
       "    }\n",
       "</style>\n",
       "<table border=\"1\" class=\"dataframe\">\n",
       "  <thead>\n",
       "    <tr style=\"text-align: right;\">\n",
       "      <th></th>\n",
       "      <th>Dataline</th>\n",
       "      <th>Play</th>\n",
       "      <th>PlayerLinenumber</th>\n",
       "      <th>ActSceneLine</th>\n",
       "      <th>Player</th>\n",
       "      <th>PlayerLine</th>\n",
       "    </tr>\n",
       "  </thead>\n",
       "  <tbody>\n",
       "    <tr>\n",
       "      <th>0</th>\n",
       "      <td>1</td>\n",
       "      <td>Henry IV</td>\n",
       "      <td>NaN</td>\n",
       "      <td>NaN</td>\n",
       "      <td>NaN</td>\n",
       "      <td>ACT I</td>\n",
       "    </tr>\n",
       "    <tr>\n",
       "      <th>1</th>\n",
       "      <td>2</td>\n",
       "      <td>Henry IV</td>\n",
       "      <td>NaN</td>\n",
       "      <td>NaN</td>\n",
       "      <td>NaN</td>\n",
       "      <td>SCENE I. London. The palace.</td>\n",
       "    </tr>\n",
       "    <tr>\n",
       "      <th>2</th>\n",
       "      <td>3</td>\n",
       "      <td>Henry IV</td>\n",
       "      <td>NaN</td>\n",
       "      <td>NaN</td>\n",
       "      <td>NaN</td>\n",
       "      <td>Enter KING HENRY, LORD JOHN OF LANCASTER, the ...</td>\n",
       "    </tr>\n",
       "    <tr>\n",
       "      <th>3</th>\n",
       "      <td>4</td>\n",
       "      <td>Henry IV</td>\n",
       "      <td>1.0</td>\n",
       "      <td>1.1.1</td>\n",
       "      <td>KING HENRY IV</td>\n",
       "      <td>So shaken as we are, so wan with care,</td>\n",
       "    </tr>\n",
       "    <tr>\n",
       "      <th>4</th>\n",
       "      <td>5</td>\n",
       "      <td>Henry IV</td>\n",
       "      <td>1.0</td>\n",
       "      <td>1.1.2</td>\n",
       "      <td>KING HENRY IV</td>\n",
       "      <td>Find we a time for frighted peace to pant,</td>\n",
       "    </tr>\n",
       "    <tr>\n",
       "      <th>...</th>\n",
       "      <td>...</td>\n",
       "      <td>...</td>\n",
       "      <td>...</td>\n",
       "      <td>...</td>\n",
       "      <td>...</td>\n",
       "      <td>...</td>\n",
       "    </tr>\n",
       "    <tr>\n",
       "      <th>111391</th>\n",
       "      <td>111392</td>\n",
       "      <td>A Winters Tale</td>\n",
       "      <td>38.0</td>\n",
       "      <td>5.3.180</td>\n",
       "      <td>LEONTES</td>\n",
       "      <td>Lead us from hence, where we may leisurely</td>\n",
       "    </tr>\n",
       "    <tr>\n",
       "      <th>111392</th>\n",
       "      <td>111393</td>\n",
       "      <td>A Winters Tale</td>\n",
       "      <td>38.0</td>\n",
       "      <td>5.3.181</td>\n",
       "      <td>LEONTES</td>\n",
       "      <td>Each one demand an answer to his part</td>\n",
       "    </tr>\n",
       "    <tr>\n",
       "      <th>111393</th>\n",
       "      <td>111394</td>\n",
       "      <td>A Winters Tale</td>\n",
       "      <td>38.0</td>\n",
       "      <td>5.3.182</td>\n",
       "      <td>LEONTES</td>\n",
       "      <td>Perform'd in this wide gap of time since first</td>\n",
       "    </tr>\n",
       "    <tr>\n",
       "      <th>111394</th>\n",
       "      <td>111395</td>\n",
       "      <td>A Winters Tale</td>\n",
       "      <td>38.0</td>\n",
       "      <td>5.3.183</td>\n",
       "      <td>LEONTES</td>\n",
       "      <td>We were dissever'd: hastily lead away.</td>\n",
       "    </tr>\n",
       "    <tr>\n",
       "      <th>111395</th>\n",
       "      <td>111396</td>\n",
       "      <td>A Winters Tale</td>\n",
       "      <td>38.0</td>\n",
       "      <td>NaN</td>\n",
       "      <td>LEONTES</td>\n",
       "      <td>Exeunt</td>\n",
       "    </tr>\n",
       "  </tbody>\n",
       "</table>\n",
       "<p>111396 rows × 6 columns</p>\n",
       "</div>"
      ],
      "text/plain": [
       "        Dataline            Play  PlayerLinenumber ActSceneLine  \\\n",
       "0              1        Henry IV               NaN          NaN   \n",
       "1              2        Henry IV               NaN          NaN   \n",
       "2              3        Henry IV               NaN          NaN   \n",
       "3              4        Henry IV               1.0        1.1.1   \n",
       "4              5        Henry IV               1.0        1.1.2   \n",
       "...          ...             ...               ...          ...   \n",
       "111391    111392  A Winters Tale              38.0      5.3.180   \n",
       "111392    111393  A Winters Tale              38.0      5.3.181   \n",
       "111393    111394  A Winters Tale              38.0      5.3.182   \n",
       "111394    111395  A Winters Tale              38.0      5.3.183   \n",
       "111395    111396  A Winters Tale              38.0          NaN   \n",
       "\n",
       "               Player                                         PlayerLine  \n",
       "0                 NaN                                              ACT I  \n",
       "1                 NaN                       SCENE I. London. The palace.  \n",
       "2                 NaN  Enter KING HENRY, LORD JOHN OF LANCASTER, the ...  \n",
       "3       KING HENRY IV             So shaken as we are, so wan with care,  \n",
       "4       KING HENRY IV         Find we a time for frighted peace to pant,  \n",
       "...               ...                                                ...  \n",
       "111391        LEONTES         Lead us from hence, where we may leisurely  \n",
       "111392        LEONTES              Each one demand an answer to his part  \n",
       "111393        LEONTES     Perform'd in this wide gap of time since first  \n",
       "111394        LEONTES             We were dissever'd: hastily lead away.  \n",
       "111395        LEONTES                                             Exeunt  \n",
       "\n",
       "[111396 rows x 6 columns]"
      ]
     },
     "execution_count": 4,
     "metadata": {},
     "output_type": "execute_result"
    }
   ],
   "source": [
    "df = pd.read_csv(\"data/shakespeare.csv\")\n",
    "df"
   ]
  },
  {
   "cell_type": "code",
   "execution_count": 5,
   "id": "b307c552-4537-45e3-bce7-f9bfb97af017",
   "metadata": {},
   "outputs": [],
   "source": [
    "data = df.PlayerLine.tolist()"
   ]
  },
  {
   "cell_type": "code",
   "execution_count": 6,
   "id": "0cbd3b82-61c6-476e-b48d-175bddb98d99",
   "metadata": {},
   "outputs": [
    {
     "data": {
      "text/plain": [
       "(0, 'ACT I', None)"
      ]
     },
     "execution_count": 6,
     "metadata": {},
     "output_type": "execute_result"
    }
   ],
   "source": [
    "txtai_data = []\n",
    "i=0\n",
    "for text in data:\n",
    "    txtai_data.append((i, text, None))\n",
    "    i=i+1\n",
    "txtai_data[0]"
   ]
  },
  {
   "cell_type": "code",
   "execution_count": 7,
   "id": "e61d69a2-7122-44a2-89a8-20d1c16b6ce5",
   "metadata": {},
   "outputs": [],
   "source": [
    "embeddings.index(txtai_data)"
   ]
  },
  {
   "cell_type": "code",
   "execution_count": 9,
   "id": "8343d366-230b-4e5f-be55-8a660642594a",
   "metadata": {},
   "outputs": [],
   "source": [
    "res = embeddings.explain(\"knife\")"
   ]
  },
  {
   "cell_type": "code",
   "execution_count": 10,
   "id": "2616ac82-35a1-467e-bc12-6b2ceaddf042",
   "metadata": {},
   "outputs": [
    {
     "name": "stdout",
     "output_type": "stream",
     "text": [
      "{'id': '52655', 'text': 'What means that bloody knife?', 'score': 0.6581855416297913, 'tokens': [('What', 0.042668938636779785), ('means', -0.0740668773651123), ('that', 0.009094953536987305), ('bloody', -0.11365503072738647), ('knife?', 0.4583216458559036)]}\n",
      "{'id': '99286', 'text': 'The knife that made it.', 'score': 0.6503617167472839, 'tokens': [('The', -0.022788584232330322), ('knife', 0.49495813250541687), ('that', 0.03646343946456909), ('made', -0.050192415714263916), ('it.', -0.07752984762191772)]}\n",
      "{'id': '53520', 'text': 'No point, with my knife.', 'score': 0.6144242286682129, 'tokens': [('No', -0.03701353073120117), ('point,', 0.07148575782775879), ('with', -0.0006935596466064453), ('my', -0.02969646453857422), ('knife.', 0.39820414781570435)]}\n"
     ]
    }
   ],
   "source": [
    "for item in res:\n",
    "    print(item)"
   ]
  },
  {
   "cell_type": "code",
   "execution_count": null,
   "id": "c96a4aad-b60e-4c4f-86f7-5092203c17f1",
   "metadata": {},
   "outputs": [],
   "source": [
    "res = embeddings.search(\"knife\", 10)\n",
    "for r in res:\n",
    "    print(f\"Text: {data[r[0]]}\")\n",
    "    print(f\"Similarity: {r[1]}\")\n",
    "    print()"
   ]
  },
  {
   "cell_type": "code",
   "execution_count": 11,
   "id": "f7215cc4-a92b-4aba-b058-c6c87840ad6f",
   "metadata": {},
   "outputs": [],
   "source": [
    "embeddings.save(\"models/shakespeare-index-full\")"
   ]
  },
  {
   "cell_type": "code",
   "execution_count": 14,
   "id": "a79e96e9-1eb9-4abc-bca1-0711d5e6da68",
   "metadata": {},
   "outputs": [
    {
     "data": {
      "text/html": [
       "<b>chocolate</b><br/>Chewing the food of <span style='background-color: #fff59d'>sweet</span> and bitter <span style='background-color: #fff59d'>fancy,</span> "
      ],
      "text/plain": [
       "<IPython.core.display.HTML object>"
      ]
     },
     "execution_count": 14,
     "metadata": {},
     "output_type": "execute_result"
    }
   ],
   "source": [
    "from IPython.display import HTML\n",
    "\n",
    "def plot(query):\n",
    "    result = embeddings.explain(query, limit=1)[0]\n",
    "    \n",
    "    output = f\"<b>{query}</b><br/>\"\n",
    "    spans = []\n",
    "    for token, score in result[\"tokens\"]:\n",
    "        color = None\n",
    "        if score >= 0.1:\n",
    "            color = \"#fdd835\"\n",
    "        elif score >= 0.075:\n",
    "            color = \"#ffeb3b\"\n",
    "        elif score >= 0.05:\n",
    "            color = \"#ffee58\"\n",
    "        elif score >= 0.02:\n",
    "            color = \"#fff59d\"\n",
    "\n",
    "        spans.append((token, score, color))\n",
    "\n",
    "    if result[\"score\"] >= 0.05 and not [color for _, _, color in spans if color]:\n",
    "        mscore = max([score for _, score, _ in spans])\n",
    "        spans = [(token, score, \"#fff59d\" if score == mscore else color) for token, score, color in spans]\n",
    "\n",
    "    for token, _, color in spans:\n",
    "        if color:\n",
    "            output += f\"<span style='background-color: {color}'>{token}</span> \"\n",
    "        else:\n",
    "            output += f\"{token} \"\n",
    "\n",
    "    return output\n",
    "\n",
    "HTML(plot(\"chocolate\"))"
   ]
  },
  {
   "cell_type": "code",
   "execution_count": null,
   "id": "fb1ed83c-15bc-4062-b135-ca1ece30095f",
   "metadata": {},
   "outputs": [],
   "source": []
  }
 ],
 "metadata": {
  "kernelspec": {
   "display_name": "Python 3 (ipykernel)",
   "language": "python",
   "name": "python3"
  },
  "language_info": {
   "codemirror_mode": {
    "name": "ipython",
    "version": 3
   },
   "file_extension": ".py",
   "mimetype": "text/x-python",
   "name": "python",
   "nbconvert_exporter": "python",
   "pygments_lexer": "ipython3",
   "version": "3.7.13"
  }
 },
 "nbformat": 4,
 "nbformat_minor": 5
}
